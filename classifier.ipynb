{
 "cells": [
  {
   "cell_type": "markdown",
   "metadata": {},
   "source": [
    "# Classifier\n",
    "This is more of a first configuration just to try out and make sure it is up and running.\n",
    "1. Convolutional layer (unit strides) + ReLu\n",
    "2. Pooling layer\n",
    "- Convolutional layer (unit strides) + ReLu\n",
    "- Pooling layer\n",
    "- Fully connected layer with dropout\n",
    "- Fully connected layer\n",
    "- Softmax activation\n",
    "\n",
    "My knowledge on the best practices of neural networks is not extensive and I'd appreciate some feedback. I referred to [this blog post](https://dev.to/kasperfred/putting-it-all-together---introduction-to-tensorflow-part-5-ein) and this [official page](https://www.tensorflow.org/tutorials/layers)."
   ]
  },
  {
   "cell_type": "code",
   "execution_count": 1,
   "metadata": {},
   "outputs": [
    {
     "name": "stderr",
     "output_type": "stream",
     "text": [
      "/usr/local/lib/python3.5/dist-packages/h5py/__init__.py:36: FutureWarning: Conversion of the second argument of issubdtype from `float` to `np.floating` is deprecated. In future, it will be treated as `np.float64 == np.dtype(float).type`.\n",
      "  from ._conv import register_converters as _register_converters\n"
     ]
    }
   ],
   "source": [
    "import tensorflow as tf\n",
    "import pickle\n",
    "import numpy as np"
   ]
  },
  {
   "cell_type": "code",
   "execution_count": 8,
   "metadata": {},
   "outputs": [
    {
     "name": "stdout",
     "output_type": "stream",
     "text": [
      "(308, 50, 50, 3)\n"
     ]
    }
   ],
   "source": [
    "with open('dataset.npys', 'rb') as handle:\n",
    "    train, train_labels, test, test_labels = pickle.load(handle)\n",
    "print(train.shape)"
   ]
  },
  {
   "cell_type": "code",
   "execution_count": 12,
   "metadata": {},
   "outputs": [],
   "source": [
    "with tf.name_scope('input') as scope:\n",
    "    x = tf.placeholder(tf.float32, [None, 50, 50, 3], name='input')\n",
    "    labels = tf.placeholder(tf.float32, [None, 2], name='label')\n",
    "    keep_prob = tf.placeholder(tf.float32, name='keep_prob')"
   ]
  },
  {
   "cell_type": "markdown",
   "metadata": {},
   "source": [
    "A side note, to be able to tell what size is produced out of a convolutional layer, with zero-padding on the edges, non-unit stride, and following this [awesome guide](https://arxiv.org/abs/1603.07285v1):\n",
    "$$o_c = \\frac{i + 2p -k}{s}+1$$\n",
    "where $i$ is the size of the (square) input, $p$ is the amount of zero-padding, $k$ is the size of the (square) kernel and $s$ is the stride. For the pooling layer, the resulting size is described by:\n",
    "$$o_p = \\frac{i-k}{s}+1$$"
   ]
  },
  {
   "cell_type": "code",
   "execution_count": 15,
   "metadata": {},
   "outputs": [
    {
     "name": "stdout",
     "output_type": "stream",
     "text": [
      "conv1 :: (?, 45, 45, 32)\n",
      "pool1 :: (?, 22, 22, 32)\n",
      "conv2 :: (?, 20, 20, 64)\n",
      "pool2 :: (?, 18, 18, 64)\n",
      "(?, 20736)\n",
      "fc1   :: (?, 512)\n",
      "logits :: (?, 2)\n"
     ]
    }
   ],
   "source": [
    "with tf.name_scope('model') as scope:\n",
    "\n",
    "    with tf.name_scope('convpool1') as scope:\n",
    "        conv1 = tf.layers.conv2d(\n",
    "            inputs = x,\n",
    "            filters = 32,\n",
    "            kernel_size = [6, 6],\n",
    "            padding = 'valid',\n",
    "            activation = tf.nn.relu,\n",
    "        )\n",
    "        print('conv1 ::', conv1.shape)\n",
    "        \n",
    "        pool1 = tf.layers.max_pooling2d(\n",
    "            inputs=conv1,\n",
    "            pool_size=[2,2],\n",
    "            strides=2\n",
    "        )\n",
    "        print('pool1 ::', pool1.shape)\n",
    "        \n",
    "    with tf.name_scope('convpool2') as scope:\n",
    "        conv2 = tf.layers.conv2d(\n",
    "            inputs=pool1,\n",
    "            filters=64,\n",
    "            kernel_size=[3,3],\n",
    "            padding='valid',\n",
    "            activation=tf.nn.relu\n",
    "        )\n",
    "        print('conv2 ::', conv2.shape)\n",
    "        \n",
    "        pool2 = tf.layers.max_pooling2d(\n",
    "            inputs=conv2,\n",
    "            pool_size=[3,3],\n",
    "            strides=1\n",
    "        )\n",
    "        print('pool2 ::', pool2.shape)\n",
    "        \n",
    "    with tf.name_scope('fc1') as scope:\n",
    "        pool2_flat = tf.reshape(pool2, [-1, 18 * 18 * 64])\n",
    "        print(pool2_flat.shape)\n",
    "        dense = tf.layers.dense(inputs=pool2_flat, units=512, activation=tf.nn.relu)\n",
    "        dropout = tf.nn.dropout(dense, keep_prob)\n",
    "        print('fc1   ::', dropout.shape)\n",
    "        \n",
    "    with tf.name_scope('logits') as scope:\n",
    "        logits = tf.layers.dense(inputs=dropout, units=2)\n",
    "        print('logits ::', logits.shape)"
   ]
  },
  {
   "cell_type": "code",
   "execution_count": 37,
   "metadata": {},
   "outputs": [
    {
     "name": "stdout",
     "output_type": "stream",
     "text": [
      "(308, 2) (?, 2)\n"
     ]
    }
   ],
   "source": [
    "with tf.name_scope('train') as scope:\n",
    "    with tf.name_scope('loss') as scope:\n",
    "        cross_entropy = tf.nn.softmax_cross_entropy_with_logits(labels=train_labels, logits=logits)\n",
    "    training_step = tf.train.AdamOptimizer(0.001).minimize(cross_entropy)\n",
    "\n",
    "with tf.name_scope('evaluation') as scope:\n",
    "    correct_prediction = tf.equal(tf.argmax(logits,1), tf.argmax(labels,1))\n",
    "    accuracy = tf.reduce_mean(tf.cast(correct_prediction, tf.float32))\n",
    "\n",
    "# create a summarizer that summarizes loss and accuracy\n",
    "tf.summary.scalar(\"Accuracy\", accuracy)\n",
    "tf.summary.scalar(\"Loss\", tf.reduce_mean(cross_entropy))\n",
    "summary_op = tf.summary.merge_all()\n",
    "\n",
    "# create saver object\n",
    "saver = tf.train.Saver()\n",
    "\n",
    "print(train_labels.shape, logits.shape)"
   ]
  },
  {
   "cell_type": "code",
   "execution_count": 43,
   "metadata": {},
   "outputs": [
    {
     "name": "stdout",
     "output_type": "stream",
     "text": [
      "(308, 2)\n",
      "mid train accuracy: 0.5 at step: 0\n",
      "mid train accuracy: 0.5 at step: 2\n",
      "mid train accuracy: 0.5 at step: 4\n",
      "mid train accuracy: 0.75974023 at step: 6\n",
      "mid train accuracy: 0.72077924 at step: 8\n",
      "mid train accuracy: 0.762987 at step: 10\n",
      "mid train accuracy: 0.83441556 at step: 12\n",
      "mid train accuracy: 0.7922078 at step: 14\n",
      "mid train accuracy: 0.8279221 at step: 16\n",
      "mid train accuracy: 0.83116883 at step: 18\n"
     ]
    }
   ],
   "source": [
    "with tf.Session() as sess:\n",
    "    # initialize variables\n",
    "    tf.global_variables_initializer().run()\n",
    "    print(logits.eval(session=sess, feed_dict={x:train, labels:train_labels, keep_prob:0.7}).shape)\n",
    "    # initialize summarizer filewriter\n",
    "    fw = tf.summary.FileWriter(\"./summary\", sess.graph)\n",
    "\n",
    "    # train the network\n",
    "    for step in range(20):\n",
    "        \n",
    "        # this should be a batch instead\n",
    "        sess.run(training_step, feed_dict={\n",
    "                x: train,\n",
    "                labels: train_labels,\n",
    "                keep_prob:1.0\n",
    "            })\n",
    "        \n",
    "        if step%2 == 0:\n",
    "            acc = sess.run(accuracy, feed_dict={\n",
    "                x: train,\n",
    "                labels: train_labels,\n",
    "                keep_prob:1.0\n",
    "            })\n",
    "            print(\"mid train accuracy:\", acc, \"at step:\", step)\n",
    "            \n",
    "            \"\"\"summary = sess.run(summary_op, feed_dict={\n",
    "                x: test,\n",
    "                labels: test_labels,\n",
    "                keep_prob: 1.0\n",
    "            })\"\"\"  # my code is buggy here...\n",
    "            # add merged summaries to filewriter,\n",
    "            # so they are saved to disk\n",
    "            #fw.add_summary(summary, step)\n",
    "\n",
    "    # save trained model\n",
    "    saver.save(sess, \"./my.model\")"
   ]
  },
  {
   "cell_type": "markdown",
   "metadata": {},
   "source": [
    "Results to be improved!"
   ]
  }
 ],
 "metadata": {
  "kernelspec": {
   "display_name": "Python 3",
   "language": "python",
   "name": "python3"
  },
  "language_info": {
   "codemirror_mode": {
    "name": "ipython",
    "version": 3
   },
   "file_extension": ".py",
   "mimetype": "text/x-python",
   "name": "python",
   "nbconvert_exporter": "python",
   "pygments_lexer": "ipython3",
   "version": "3.5.2"
  }
 },
 "nbformat": 4,
 "nbformat_minor": 2
}
