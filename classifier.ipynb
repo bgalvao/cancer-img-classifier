{
 "cells": [
  {
   "cell_type": "markdown",
   "metadata": {},
   "source": [
    "# Classifier\n",
    "This is more of a first configuration just to try out and make sure it is up and running.\n",
    "1. Convolutional layer (unit strides) + ReLu\n",
    "2. Pooling layer\n",
    "- Convolutional layer (unit strides) + ReLu\n",
    "- Pooling layer\n",
    "- Fully connected layer with dropout\n",
    "- Fully connected layer\n",
    "- Softmax activation\n",
    "\n",
    "My knowledge on the best practices of neural networks is not extensive and I'd appreciate some feedback. I referred to [this blog post](https://dev.to/kasperfred/putting-it-all-together---introduction-to-tensorflow-part-5-ein) and this [official page](https://www.tensorflow.org/tutorials/layers)."
   ]
  },
  {
   "cell_type": "code",
   "execution_count": 2,
   "metadata": {},
   "outputs": [],
   "source": [
    "import tensorflow as tf\n",
    "import pickle\n",
    "import numpy as np"
   ]
  },
  {
   "cell_type": "code",
   "execution_count": 3,
   "metadata": {},
   "outputs": [],
   "source": [
    "with open('dataset.npys', 'rb') as handle:\n",
    "    train, train_labels, test, test_labels = pickle.load(handle)"
   ]
  },
  {
   "cell_type": "code",
   "execution_count": 22,
   "metadata": {},
   "outputs": [],
   "source": [
    "with tf.name_scope('input') as scope:\n",
    "    x = tf.placeholder(tf.float32, [None, 50, 50, 3], name='input')\n",
    "    labels = tf.placeholder(tf.float32, [None, 2], name='label')\n",
    "    keep_prob = tf.placeholder(tf.float32, name='keep_prob')"
   ]
  },
  {
   "cell_type": "markdown",
   "metadata": {},
   "source": [
    "A side note, to be able to tell what size is produced out of a convolutional layer, with zero-padding on the edges, non-unit stride, and following this [awesome guide](https://arxiv.org/abs/1603.07285v1):\n",
    "$$o_c = \\frac{i + 2p -k}{s}+1$$\n",
    "where $i$ is the size of the (square) input, $p$ is the amount of zero-padding, $k$ is the size of the (square) kernel and $s$ is the stride. For the pooling layer, the resulting size is described by:\n",
    "$$o_p = \\frac{i-k}{s}+1$$"
   ]
  },
  {
   "cell_type": "code",
   "execution_count": 30,
   "metadata": {},
   "outputs": [],
   "source": [
    "with tf.name_scope('model') as scope:\n",
    "\n",
    "    with tf.name_scope('convpool1') as scope:\n",
    "        conv1 = tf.layers.conv2d(\n",
    "            inputs = x,\n",
    "            filters = 32,\n",
    "            kernel_size = [6, 6],\n",
    "            padding = 'same',\n",
    "            activation = tf.nn.relu,\n",
    "        )\n",
    "        \n",
    "        pool1 = tf.layers.max_pooling2d(\n",
    "            inputs=conv1,\n",
    "            pool_size=[2,2],\n",
    "            strides=2\n",
    "        )\n",
    "        \n",
    "    with tf.name_scope('convpool2') as scope:\n",
    "        conv2 = tf.layers.conv2d(\n",
    "            inputs=pool1,\n",
    "            filters=64,\n",
    "            kernel_size=[3,3],\n",
    "            padding='same',\n",
    "            activation=tf.nn.relu\n",
    "        )\n",
    "        pool2 = tf.layers.max_pooling2d(\n",
    "            inputs=conv2,\n",
    "            pool_size=[3,3],\n",
    "            strides=1\n",
    "        )\n",
    "        \n",
    "    with tf.name_scope('fc1') as scope:\n",
    "        pool2_flat = tf.reshape(pool2, [-1, 23 * 23 * 64])\n",
    "        dense = tf.layers.dense(inputs=pool2_flat, units=516, activation=tf.nn.relu)\n",
    "        dropout = tf.nn.dropout(dense, keep_prob)\n",
    "        \n",
    "    with tf.name_scope('logits') as scope:\n",
    "        logits = tf.layers.dense(inputs=dropout, units=2)"
   ]
  },
  {
   "cell_type": "code",
   "execution_count": 24,
   "metadata": {},
   "outputs": [
    {
     "name": "stdout",
     "output_type": "stream",
     "text": [
      "WARNING:tensorflow:From <ipython-input-24-e889bca6b7ff>:3: softmax_cross_entropy_with_logits (from tensorflow.python.ops.nn_ops) is deprecated and will be removed in a future version.\n",
      "Instructions for updating:\n",
      "\n",
      "Future major versions of TensorFlow will allow gradients to flow\n",
      "into the labels input on backprop by default.\n",
      "\n",
      "See tf.nn.softmax_cross_entropy_with_logits_v2.\n",
      "\n"
     ]
    }
   ],
   "source": [
    "with tf.name_scope('train') as scope:\n",
    "    with tf.name_scope('loss') as scope:\n",
    "        cross_entropy = tf.nn.softmax_cross_entropy_with_logits(labels=train_y, logits=logits)\n",
    "    training_step = tf.train.AdamOptimizer(0.001).minimize(cross_entropy)\n",
    "\n",
    "with tf.name_scope('evaluation') as scope:\n",
    "    correct_prediction = tf.equal(tf.argmax(logits,1), tf.argmax(train_y,1))\n",
    "    accuracy = tf.reduce_mean(tf.cast(correct_prediction, tf.float32))\n",
    "\n",
    "# create a summarizer that summarizes loss and accuracy\n",
    "tf.summary.scalar(\"Accuracy\", accuracy)\n",
    "tf.summary.scalar(\"Loss\", tf.reduce_mean(cross_entropy))\n",
    "summary_op = tf.summary.merge_all()\n",
    "\n",
    "# create saver object\n",
    "saver = tf.train.Saver()"
   ]
  },
  {
   "cell_type": "code",
   "execution_count": null,
   "metadata": {},
   "outputs": [],
   "source": [
    "with tf.Session() as sess:\n",
    "    # initialize variables\n",
    "    tf.global_variables_initializer().run()\n",
    "\n",
    "    # initialize summarizer filewriter\n",
    "    fw = tf.summary.FileWriter(\"./summary\", sess.graph)\n",
    "\n",
    "    # train the network\n",
    "    for step in range(20000):\n",
    "        \n",
    "        # this should be a batch instead\n",
    "        if step%2 == 0:\n",
    "            acc = sess.run(accuracy, feed_dict={\n",
    "                x: train, labels: train_labels, keep_prob:1})\n",
    "            print(\"mid train accuracy:\", acc, \"at step:\", step)\n",
    "\n",
    "        if step%100 == 0:\n",
    "            # compute summary using test data every 100 steps\n",
    "            summary = sess.run(summary_op, feed_dict={\n",
    "                x: test, labels: test_labels, keep_prob:1})\n",
    "\n",
    "            # add merged summaries to filewriter,\n",
    "            # so they are saved to disk\n",
    "            fw.add_summary(summary, step)\n",
    "\n",
    "    # save trained model\n",
    "    saver.save(sess, \"./my.model\")"
   ]
  }
 ],
 "metadata": {
  "kernelspec": {
   "display_name": "Python 3",
   "language": "python",
   "name": "python3"
  },
  "language_info": {
   "codemirror_mode": {
    "name": "ipython",
    "version": 3
   },
   "file_extension": ".py",
   "mimetype": "text/x-python",
   "name": "python",
   "nbconvert_exporter": "python",
   "pygments_lexer": "ipython3",
   "version": "3.6.4"
  }
 },
 "nbformat": 4,
 "nbformat_minor": 2
}
