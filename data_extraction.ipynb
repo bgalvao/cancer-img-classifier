{
 "cells": [
  {
   "cell_type": "markdown",
   "metadata": {},
   "source": [
    "# Data extraction"
   ]
  },
  {
   "cell_type": "markdown",
   "metadata": {},
   "source": [
    "If this is being run locally and not on the kaggle platform, please run `data_download.sh`."
   ]
  },
  {
   "cell_type": "code",
   "execution_count": 1,
   "metadata": {},
   "outputs": [
    {
     "name": "stdout",
     "output_type": "stream",
     "text": [
      "['16555', '9174', '14078', '12870', '10260', '12947', '12898', '10257', '12949', '13106', '12868', '10279', '9135', '14153', '9125', '14209', '9124', '12930', '12900', '9261', '9291', '10300', '13689', '8914', '9035', '9321', '14210', '14190', '9255', '9250', '15513', '10306', '10301', '9319', '9075', '15839', '15472', '14191', '12911', '9076', '16014', '8975', '13462', '12948', '8918', '8980', '16568', '13022', '9177', '13591', '8867', '12929', '12907', '12891', '9181', '10261', '13404', '14156', '12884', '12895', '13459', '8955', '14079', '12826', '15902', '15634', '16896', '12910', '12242', '12931', '9381', '9322', '13617', '9344', '14189', '12877', '14154', '12905', '12751', '9029', '8950', '8959', '8917', '9173', '13023', '15840', '10274', '12876', '9176', '9265', '12822', '13458', '9037', '15510', '9347', '12818', '13402', '12951', '12901', '12892', '12750', '15471', '10253', '9258', '9324', '9382', '12955', '9383', '9228', '12626', '12749', '12810', '12954', '13692', '9290', '10264', '10307', '15514', '12882', '9225', '10291', '9078', '10268', '9260', '9227', '16551', '14212', '13019', '8974', '13020', '16165', '10255', '10269', '9262', '9123', '14188', '9346', '10293', '12894', '15632', '12871', '12893', '10278', '13691', '8913', '15473', '10304', '12878', '8865', '16166', '12909', '12886', '12873', '8864', '10302', '10305', '13461', '13460', '13021', '13694', '10277', '16532', '9083', '15512', '10276', '9178', '14305', '13693', '13666', '9257', '12896', '16550', '8956', '8984', '13688', '15633', '14157', '12934', '13613', '10282', '10292', '8957', '16895', '13687', '12933', '9041', '12879', '12748', '8916', '9256', '13400', '9023', '12819', '12897', '16533', '12908', '9259', '12824', '12821', '13024', '10303', '16531', '16553', '16569', '9345', '10272', '14304', '12241', '12869', '12817', '14082', '12872', '10275', '12823', '16534', '9254', '13403', '9126', '16570', '9266', '12867', '13916', '13025', '12820', '16554', '10286', '9175', '10259', '14192', '9022', '13018', '9043', '14321', '9323', '10254', '9081', '16085', '14213', '12880', '12935', '14211', '10273', '12906', '16552', '10258', '9073', '14081', '12932', '16167', '13401', '9267', '8863', '9036', '9320', '10299', '15516', '10295', '15515', '15903', '12890', '10308', '10262', '10288', '9226', '10256', '12875', '9325', '8951', '10290', '9044', '13616', '10285', '12752', '12881', '14306', '9077', '12811', '14155', '12883']\n"
     ]
    }
   ],
   "source": [
    "from os import walk, listdir\n",
    "from os.path import isfile, join\n",
    "\n",
    "# this will only work after deleting the zip file.\n",
    "for (dirpath, dirnames, filenames) in walk('./data'):\n",
    "    patients = dirnames\n",
    "    break\n",
    "print (patients)\n",
    "    \n",
    "files = []\n",
    "for i in patients:\n",
    "    for j in ['/0/', '/1/']:\n",
    "        path = './data/' + i + j\n",
    "        these_files = [(path+f) for f in listdir(path) if isfile(join(path, f))]\n",
    "        files += these_files"
   ]
  },
  {
   "cell_type": "code",
   "execution_count": 2,
   "metadata": {},
   "outputs": [],
   "source": [
    "import numpy as np\n",
    "from matplotlib.image import imread"
   ]
  },
  {
   "cell_type": "code",
   "execution_count": 3,
   "metadata": {},
   "outputs": [],
   "source": [
    "imgs_0 = []\n",
    "imgs_1 = []\n",
    "for i in files:\n",
    "    if int(i[-5]) == 0:\n",
    "        imgs_0.append(imread(i))\n",
    "    else:\n",
    "        imgs_1.append(imread(i))\n",
    "imgs_0 = np.array(imgs_0)\n",
    "imgs_1 = np.array(imgs_1)"
   ]
  },
  {
   "cell_type": "code",
   "execution_count": 4,
   "metadata": {},
   "outputs": [
    {
     "data": {
      "text/plain": [
       "((198738,), (78786,))"
      ]
     },
     "execution_count": 4,
     "metadata": {},
     "output_type": "execute_result"
    }
   ],
   "source": [
    "imgs_0.shape, imgs_1.shape"
   ]
  },
  {
   "cell_type": "markdown",
   "metadata": {},
   "source": [
    "## On data selection\n",
    "This dataset is very unbalanced. Efforts made to:\n",
    "- idc vs. non-idc is a 50/50 split\n",
    "- train vs. test is a 65/35 split"
   ]
  },
  {
   "cell_type": "markdown",
   "metadata": {},
   "source": [
    "### 50/50 split of IDC vs Non-IDC"
   ]
  },
  {
   "cell_type": "code",
   "execution_count": 6,
   "metadata": {},
   "outputs": [],
   "source": [
    "non_idc_n = imgs_0.shape[0]\n",
    "n_idc_n = imgs_1.shape[0]\n",
    "non_idc_to_delete = imgs_0.shape[0] - imgs_1.shape[0]\n",
    "# not inspected I know, but the dataset shows more non-idc than idc"
   ]
  },
  {
   "cell_type": "code",
   "execution_count": 7,
   "metadata": {},
   "outputs": [
    {
     "name": "stdout",
     "output_type": "stream",
     "text": [
      "(119952,)\n"
     ]
    }
   ],
   "source": [
    "print(np.random.choice(imgs_0.shape[0], non_idc_to_delete, replace = False).shape)"
   ]
  },
  {
   "cell_type": "code",
   "execution_count": 8,
   "metadata": {},
   "outputs": [
    {
     "data": {
      "text/plain": [
       "(78786,)"
      ]
     },
     "execution_count": 8,
     "metadata": {},
     "output_type": "execute_result"
    }
   ],
   "source": [
    "idx = np.random.choice(imgs_0.shape[0], non_idc_to_delete, replace = False)\n",
    "imgs_0 = np.delete(imgs_0, idx, axis=0)\n",
    "imgs_0.shape"
   ]
  },
  {
   "cell_type": "markdown",
   "metadata": {},
   "source": [
    "### 65/35 split of training and test"
   ]
  },
  {
   "cell_type": "code",
   "execution_count": 9,
   "metadata": {},
   "outputs": [],
   "source": [
    "# shuffle and split\n",
    "# shuffle\n",
    "np.random.shuffle(imgs_0)\n",
    "np.random.shuffle(imgs_1)\n",
    "\n",
    "# split\n",
    "split_idx = int(np.floor(0.65 * imgs_0.shape[0]))  # idc and non idc share the same size\n",
    "\n",
    "train_0 = imgs_0[:split_idx]\n",
    "train_1 = imgs_1[:split_idx]\n",
    "\n",
    "test_0 = imgs_0[split_idx:]\n",
    "test_1 = imgs_1[split_idx:]"
   ]
  },
  {
   "cell_type": "code",
   "execution_count": 10,
   "metadata": {},
   "outputs": [
    {
     "data": {
      "text/plain": [
       "((51210,), (27576,), (51210,), (27576,))"
      ]
     },
     "execution_count": 10,
     "metadata": {},
     "output_type": "execute_result"
    }
   ],
   "source": [
    "(train_0.shape, test_0.shape, train_1.shape, test_1.shape)"
   ]
  },
  {
   "cell_type": "markdown",
   "metadata": {},
   "source": [
    "Cool! We have the dataset prepared (do not read 'cleaned') and wrapped in numpy arrays. Now we only have to create one-hot encodings.\n",
    "\n",
    "### Formatting for `tensorflow`"
   ]
  },
  {
   "cell_type": "code",
   "execution_count": 12,
   "metadata": {},
   "outputs": [],
   "source": [
    "train_0_labels = np.zeros(train_0.shape[0])\n",
    "test_0_labels = np.zeros(test_0.shape[0])\n",
    "\n",
    "train_1_labels = np.ones(train_1.shape[0])\n",
    "test_1_labels = np.ones(test_1.shape[0])\n",
    "\n",
    "train = np.append(train_0, train_1, axis=0)\n",
    "train_labels = np.append(train_0_labels, train_1_labels, axis=0)\n",
    "\n",
    "test = np.append(test_0, test_1, axis=0)\n",
    "test_labels = np.append(test_0_labels, test_1_labels, axis=0)\n",
    "\n",
    "def shuffle(a, b):\n",
    "    permutation = np.random.permutation(a.shape[0])\n",
    "    return a[permutation], b[permutation]\n",
    "\n",
    "train, train_labels = shuffle(train, train_labels)\n",
    "test, test_labels = shuffle(test, test_labels)\n",
    "\n",
    "def get_one_hot(targets, nb_classes):\n",
    "    # https://stackoverflow.com/a/42874726\n",
    "    return np.eye(nb_classes)[np.array(targets.astype(np.int32)).reshape(-1)]\n",
    "\n",
    "train_labels = get_one_hot(train_labels, 2)\n",
    "test_labels = get_one_hot(test_labels, 2)"
   ]
  },
  {
   "cell_type": "code",
   "execution_count": 13,
   "metadata": {},
   "outputs": [
    {
     "ename": "MemoryError",
     "evalue": "",
     "output_type": "error",
     "traceback": [
      "\u001b[0;31m---------------------------------------------------------------------------\u001b[0m",
      "\u001b[0;31mMemoryError\u001b[0m                               Traceback (most recent call last)",
      "\u001b[0;32m<ipython-input-13-1d694ae0d2cb>\u001b[0m in \u001b[0;36m<module>\u001b[0;34m()\u001b[0m\n\u001b[1;32m      1\u001b[0m \u001b[0;32mimport\u001b[0m \u001b[0mpickle\u001b[0m\u001b[0;34m\u001b[0m\u001b[0m\n\u001b[1;32m      2\u001b[0m \u001b[0;32mwith\u001b[0m \u001b[0mopen\u001b[0m\u001b[0;34m(\u001b[0m\u001b[0;34m'dataset.npys'\u001b[0m\u001b[0;34m,\u001b[0m \u001b[0;34m'wb'\u001b[0m\u001b[0;34m)\u001b[0m \u001b[0;32mas\u001b[0m \u001b[0mhandle\u001b[0m\u001b[0;34m:\u001b[0m\u001b[0;34m\u001b[0m\u001b[0m\n\u001b[0;32m----> 3\u001b[0;31m     \u001b[0mpickle\u001b[0m\u001b[0;34m.\u001b[0m\u001b[0mdump\u001b[0m\u001b[0;34m(\u001b[0m\u001b[0;34m(\u001b[0m\u001b[0mtrain\u001b[0m\u001b[0;34m,\u001b[0m \u001b[0mtrain_labels\u001b[0m\u001b[0;34m,\u001b[0m \u001b[0mtest\u001b[0m\u001b[0;34m,\u001b[0m \u001b[0mtest_labels\u001b[0m\u001b[0;34m)\u001b[0m\u001b[0;34m,\u001b[0m \u001b[0mhandle\u001b[0m\u001b[0;34m)\u001b[0m\u001b[0;34m\u001b[0m\u001b[0m\n\u001b[0m",
      "\u001b[0;31mMemoryError\u001b[0m: "
     ]
    }
   ],
   "source": [
    "import pickle\n",
    "with open('dataset.npys', 'wb') as handle:\n",
    "    pickle.dump((train, train_labels, test, test_labels), handle)"
   ]
  }
 ],
 "metadata": {
  "kernelspec": {
   "display_name": "Python 3",
   "language": "python",
   "name": "python3"
  },
  "language_info": {
   "codemirror_mode": {
    "name": "ipython",
    "version": 3
   },
   "file_extension": ".py",
   "mimetype": "text/x-python",
   "name": "python",
   "nbconvert_exporter": "python",
   "pygments_lexer": "ipython3",
   "version": "3.6.4"
  }
 },
 "nbformat": 4,
 "nbformat_minor": 2
}
