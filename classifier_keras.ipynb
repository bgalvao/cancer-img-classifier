{
 "cells": [
  {
   "cell_type": "code",
   "execution_count": 1,
   "metadata": {},
   "outputs": [
    {
     "name": "stderr",
     "output_type": "stream",
     "text": [
      "/home/bgalvao/miniconda3/envs/tf/lib/python3.6/site-packages/h5py/__init__.py:36: FutureWarning: Conversion of the second argument of issubdtype from `float` to `np.floating` is deprecated. In future, it will be treated as `np.float64 == np.dtype(float).type`.\n",
      "  from ._conv import register_converters as _register_converters\n",
      "Using TensorFlow backend.\n"
     ]
    }
   ],
   "source": [
    "from keras.models import Sequential\n",
    "from keras.layers import Conv2D, MaxPooling2D, Dense, Activation, Flatten\n",
    "from keras import callbacks\n",
    "from keras import backend, optimizers"
   ]
  },
  {
   "cell_type": "code",
   "execution_count": 2,
   "metadata": {},
   "outputs": [
    {
     "data": {
      "text/plain": [
       "((308, 50, 50, 3), (308, 2), (166, 50, 50, 3))"
      ]
     },
     "execution_count": 2,
     "metadata": {},
     "output_type": "execute_result"
    }
   ],
   "source": [
    "# load data\n",
    "import pickle\n",
    "with open('dataset.npys', 'rb') as handle:\n",
    "    train, train_labels, test, test_labels = pickle.load(handle)\n",
    "train.shape, train_labels.shape, test.shape"
   ]
  },
  {
   "cell_type": "markdown",
   "metadata": {},
   "source": [
    "The neural network is defined in the following code block. The `strides` for the pooling layers are defaulted to the `pool_size`, and thus explicitly set to `(1,1)`."
   ]
  },
  {
   "cell_type": "code",
   "execution_count": 3,
   "metadata": {},
   "outputs": [],
   "source": [
    "# define model\n",
    "backend.clear_session()  # resets graph, we don't need multiples of the same\n",
    "model = Sequential()\n",
    "model.add(Conv2D(32, kernel_size=(9,9), input_shape=(50, 50, 3)))\n",
    "model.add(MaxPooling2D(pool_size=(3,3), strides=(1,1)))\n",
    "model.add(Activation('relu'))\n",
    "model.add(Conv2D(64, kernel_size=(4,4)))\n",
    "model.add(MaxPooling2D(pool_size=(2,2), strides=(1,1)))\n",
    "model.add(Activation('relu'))\n",
    "model.add(Flatten())\n",
    "model.add(Dense(32))\n",
    "model.add(Activation('relu'))\n",
    "model.add(Dense(2))\n",
    "model.add(Activation('softmax'))"
   ]
  },
  {
   "cell_type": "markdown",
   "metadata": {},
   "source": [
    "Here we define the optimizer. Here is a [view on gradient descent optimization algorithms](http://ruder.io/optimizing-gradient-descent/index.html). The suggested optimizer by Keras, RMSProp, hits a local optimum (though its default learning rate may have been to high) really early in the training. Thus I switched to other optimizers.\n",
    "\n",
    "What is more, I can only get the accuracy metric from `keras`. I also want to take a look at other metrics such as precision and recall - mainly inspired by this [post and the accuracy paradox](https://machinelearningmastery.com/classification-accuracy-is-not-enough-more-performance-measures-you-can-use/). Let us recall (pun definitely intended) what these metrics are. For ${TP}$, ${TN}$, ${FP}$ and ${FN}$ standing for some combination between {**T**rue, **F**alse} and {**P**ositives, **N**egatives}.\n",
    "\n",
    "\n",
    "- _**Accuracy**_ is the number of correct predictions divided by the total number of predictions $\\frac{TN + TP}{TN + TP + FP + FN}$\n",
    "- _**Precision**_ is the number of positive predictions divided by the total number of positive class values predicted, thus $\\frac{TP}{TP+FP}$\n",
    "- _**Recall**_ is the number of True Positives divided by the number of True Positives and the number of False Negatives, hence $\\frac{TP}{TP+FN}$\n",
    "- _**F1 Score**_ is meant to convey the balance between precision and recall. It's form is $2*\\frac{{precision}*{recall}}{{precision}+{recall}}$\n",
    "\n",
    "While the accuracy could be sufficient given that the classes are balanced (I explicitly split the classes 50/50), this cannot always be the case, and it is important to know how to compute other measures using `keras`, which is something I plan on doing later."
   ]
  },
  {
   "cell_type": "code",
   "execution_count": 4,
   "metadata": {},
   "outputs": [],
   "source": [
    "# define optimizer\n",
    "optmzr = optimizers.SGD(lr=0.005)\n",
    "#optmzr = optimizers.Adam(lr=0.005)\n",
    "\n",
    "# define metrics\n",
    "def precision(y_true, y_pred):\n",
    "    pass\n",
    "\n",
    "def recall(y_true, y_pred):\n",
    "    pass\n",
    "\n",
    "def f1(y_true, y_pred):\n",
    "    pass\n",
    "\n",
    "# For a binary classification problem\n",
    "model.compile(optimizer=optmzr,\n",
    "              loss='binary_crossentropy',\n",
    "              metrics=['accuracy'])"
   ]
  },
  {
   "cell_type": "markdown",
   "metadata": {},
   "source": [
    "The `tensorboard_callback` allows to log the results to the specified directory `'./log_keras'`. So later, this log can be visualized using the command `tensorboard --logdir log_keras`. Personally, it could be interesting to also add this [precision-recall curve](https://medium.com/@akionakas/precision-recall-curve-with-keras-cd92647685e1)."
   ]
  },
  {
   "cell_type": "code",
   "execution_count": 5,
   "metadata": {},
   "outputs": [
    {
     "name": "stdout",
     "output_type": "stream",
     "text": [
      "Epoch 1/20\n",
      "308/308 [==============================] - 8s 24ms/step - loss: 0.7058 - acc: 0.4740\n",
      "Epoch 2/20\n",
      "308/308 [==============================] - 8s 27ms/step - loss: 0.6511 - acc: 0.5487\n",
      "Epoch 3/20\n",
      "308/308 [==============================] - 8s 27ms/step - loss: 0.6405 - acc: 0.6299\n",
      "Epoch 4/20\n",
      "308/308 [==============================] - 8s 27ms/step - loss: 0.6441 - acc: 0.6494\n",
      "Epoch 5/20\n",
      "308/308 [==============================] - 9s 28ms/step - loss: 0.6497 - acc: 0.6234\n",
      "Epoch 6/20\n",
      "308/308 [==============================] - 10s 32ms/step - loss: 0.6670 - acc: 0.5942\n",
      "Epoch 7/20\n",
      "308/308 [==============================] - 9s 30ms/step - loss: 0.6348 - acc: 0.6753\n",
      "Epoch 8/20\n",
      "308/308 [==============================] - 9s 30ms/step - loss: 0.6272 - acc: 0.6818\n",
      "Epoch 9/20\n",
      "308/308 [==============================] - 10s 32ms/step - loss: 0.5752 - acc: 0.7338\n",
      "Epoch 10/20\n",
      "308/308 [==============================] - 9s 30ms/step - loss: 0.6328 - acc: 0.6494\n",
      "Epoch 11/20\n",
      "308/308 [==============================] - 10s 33ms/step - loss: 0.5310 - acc: 0.7792\n",
      "Epoch 12/20\n",
      "308/308 [==============================] - 9s 30ms/step - loss: 0.5524 - acc: 0.7305\n",
      "Epoch 13/20\n",
      "308/308 [==============================] - 10s 31ms/step - loss: 0.6330 - acc: 0.6818\n",
      "Epoch 14/20\n",
      "308/308 [==============================] - 10s 32ms/step - loss: 0.5720 - acc: 0.7727\n",
      "Epoch 15/20\n",
      "308/308 [==============================] - 9s 30ms/step - loss: 0.5969 - acc: 0.6786\n",
      "Epoch 16/20\n",
      "308/308 [==============================] - 10s 32ms/step - loss: 0.5431 - acc: 0.7695\n",
      "Epoch 17/20\n",
      "308/308 [==============================] - 9s 31ms/step - loss: 0.5822 - acc: 0.7078\n",
      "Epoch 18/20\n",
      "308/308 [==============================] - 9s 30ms/step - loss: 0.5718 - acc: 0.7695\n",
      "Epoch 19/20\n",
      "308/308 [==============================] - 9s 30ms/step - loss: 0.6176 - acc: 0.6526\n",
      "Epoch 20/20\n",
      "308/308 [==============================] - 9s 30ms/step - loss: 0.5392 - acc: 0.7565\n"
     ]
    },
    {
     "data": {
      "text/plain": [
       "<keras.callbacks.History at 0x7fef64329908>"
      ]
     },
     "execution_count": 5,
     "metadata": {},
     "output_type": "execute_result"
    }
   ],
   "source": [
    "# hyper and meta params\n",
    "iterations = 20\n",
    "batch = 32\n",
    "tensorboard_callback = callbacks.TensorBoard(\n",
    "    log_dir='./log_keras',\n",
    "    histogram_freq=0,\n",
    "    write_graph=True,\n",
    "    write_images=True\n",
    ")\n",
    "\n",
    "model.fit(\n",
    "    train,\n",
    "    train_labels,\n",
    "    epochs=iterations,\n",
    "    batch_size=batch,\n",
    "    callbacks=[tensorboard_callback]\n",
    ")"
   ]
  },
  {
   "cell_type": "code",
   "execution_count": 6,
   "metadata": {},
   "outputs": [
    {
     "name": "stdout",
     "output_type": "stream",
     "text": [
      "166/166 [==============================] - 2s 11ms/step\n",
      "On the test set\n",
      "loss :: 0.51\n",
      "accu :: 0.77\n"
     ]
    }
   ],
   "source": [
    "score = model.evaluate(test, test_labels, batch_size=12)\n",
    "print('On the test set')\n",
    "print('loss ::', round(score[0], 2))\n",
    "print('accu ::', round(score[1], 2))"
   ]
  },
  {
   "cell_type": "markdown",
   "metadata": {},
   "source": [
    "This run got 77% accuracy on the test set! Not bad, but definitely improvable. :) Keep in mind however, this was trained on a cpu and a very small subset of the data, so it's not much to celebrate haha.\n",
    "\n",
    "Anyways, if you want to check out details of this run, run the command `tensorboard --logdir log_keras` and open `localhost:6006` on the browser."
   ]
  }
 ],
 "metadata": {
  "kernelspec": {
   "display_name": "Python 3",
   "language": "python",
   "name": "python3"
  },
  "language_info": {
   "codemirror_mode": {
    "name": "ipython",
    "version": 3
   },
   "file_extension": ".py",
   "mimetype": "text/x-python",
   "name": "python",
   "nbconvert_exporter": "python",
   "pygments_lexer": "ipython3",
   "version": "3.6.4"
  }
 },
 "nbformat": 4,
 "nbformat_minor": 2
}
