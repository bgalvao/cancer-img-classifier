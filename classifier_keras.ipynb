{
 "cells": [
  {
   "cell_type": "code",
   "execution_count": 1,
   "metadata": {},
   "outputs": [
    {
     "name": "stderr",
     "output_type": "stream",
     "text": [
      "/home/burnie/.conda/envs/tf/lib/python3.6/site-packages/h5py/__init__.py:36: FutureWarning: Conversion of the second argument of issubdtype from `float` to `np.floating` is deprecated. In future, it will be treated as `np.float64 == np.dtype(float).type`.\n",
      "  from ._conv import register_converters as _register_converters\n",
      "Using TensorFlow backend.\n"
     ]
    }
   ],
   "source": [
    "from keras.models import Sequential\n",
    "from keras.layers import Conv2D, MaxPooling2D, Dense, Activation, Flatten\n",
    "from keras import callbacks\n",
    "from keras import backend, optimizers"
   ]
  },
  {
   "cell_type": "code",
   "execution_count": 2,
   "metadata": {},
   "outputs": [
    {
     "data": {
      "text/plain": [
       "((308, 50, 50, 3), (308, 2), (166, 50, 50, 3))"
      ]
     },
     "execution_count": 2,
     "metadata": {},
     "output_type": "execute_result"
    }
   ],
   "source": [
    "# load data\n",
    "import pickle\n",
    "with open('dataset.npys', 'rb') as handle:\n",
    "    train, train_labels, test, test_labels = pickle.load(handle)\n",
    "train.shape, train_labels.shape, test.shape"
   ]
  },
  {
   "cell_type": "markdown",
   "metadata": {},
   "source": [
    "The neural network is defined in the following code block. The `strides` for the pooling layers are defaulted to the `pool_size`, and thus explicitly set to `(1,1)`."
   ]
  },
  {
   "cell_type": "code",
   "execution_count": 19,
   "metadata": {},
   "outputs": [],
   "source": [
    "# define model\n",
    "backend.clear_session()  # resets graph, we don't need multiples of the same\n",
    "model = Sequential()\n",
    "model.add(Conv2D(32, kernel_size=(9,9), input_shape=(50, 50, 3)))\n",
    "model.add(MaxPooling2D(pool_size=(3,3), strides=(1,1)))\n",
    "model.add(Activation('relu'))\n",
    "model.add(Conv2D(64, kernel_size=(4,4)))\n",
    "model.add(MaxPooling2D(pool_size=(2,2), strides=(1,1)))\n",
    "model.add(Activation('relu'))\n",
    "model.add(Flatten())\n",
    "model.add(Dense(32))\n",
    "model.add(Activation('relu'))\n",
    "model.add(Dense(2))\n",
    "model.add(Activation('softmax'))"
   ]
  },
  {
   "cell_type": "markdown",
   "metadata": {},
   "source": [
    "Here we define the optimizer. Here is a [view on gradient descent optimization algorithms](http://ruder.io/optimizing-gradient-descent/index.html). The suggested optimizer by Keras, RMSProp, hits a local optimum (though its default learning rate may have been to high) really early in the training. Thus I switched to other optimizers.\n",
    "\n",
    "What is more, I can only get the accuracy metric from `keras`. I also want to take a look at other metrics such as precision and recall - mainly inspired by this [post and the accuracy paradox](https://machinelearningmastery.com/classification-accuracy-is-not-enough-more-performance-measures-you-can-use/). Let us recall (pun definitely intended) what these metrics are. For ${TP}$, ${TN}$, ${FP}$ and ${FN}$ standing for some combination between {**T**rue, **F**alse} and {**P**ositives, **N**egatives}.\n",
    "\n",
    "\n",
    "- _**Accuracy**_ is the number of correct predictions divided by the total number of predictions $\\frac{TN + TP}{TN + TP + FP + FN}$\n",
    "- _**Precision**_ is the number of positive predictions divided by the total number of positive class values predicted, thus $\\frac{TP}{TP+FP}$\n",
    "- _**Recall**_ is the number of True Positives divided by the number of True Positives and the number of False Negatives, hence $\\frac{TP}{TP+FN}$\n",
    "- _**F1 Score**_ is meant to convey the balance between precision and recall. It's form is $2*\\frac{{precision}*{recall}}{{precision}+{recall}}$\n",
    "\n",
    "While the accuracy could be sufficient given that the classes are balanced (I explicitly split the classes 50/50), this cannot always be the case, and it is important to know how to compute other measures using `keras`, which is something I plan on doing later."
   ]
  },
  {
   "cell_type": "code",
   "execution_count": 20,
   "metadata": {},
   "outputs": [],
   "source": [
    "# define optimizer\n",
    "optmzr = optimizers.SGD(lr=0.005)\n",
    "#optmzr = optimizers.Adam(lr=0.005)\n",
    "\n",
    "# define metrics\n",
    "def precision(y_true, y_pred):\n",
    "    pass\n",
    "\n",
    "def recall(y_true, y_pred):\n",
    "    pass\n",
    "\n",
    "def f1(y_true, y_pred):\n",
    "    pass\n",
    "\n",
    "# For a binary classification problem\n",
    "model.compile(optimizer=optmzr,\n",
    "              loss='binary_crossentropy',\n",
    "              metrics=['accuracy'])"
   ]
  },
  {
   "cell_type": "markdown",
   "metadata": {},
   "source": [
    "The `tensorboard_callback` allows to log the results to the specified directory `'./log_keras'`. So later, this log can be visualized using the command `tensorboard --logdir log_keras`. Personally, it could be interesting to also add this [precision-recall curve](https://medium.com/@akionakas/precision-recall-curve-with-keras-cd92647685e1)."
   ]
  },
  {
   "cell_type": "code",
   "execution_count": 21,
   "metadata": {},
   "outputs": [
    {
     "name": "stdout",
     "output_type": "stream",
     "text": [
      "Epoch 1/5\n",
      "308/308 [==============================] - 21s 68ms/step - loss: 0.6961 - acc: 0.5260\n",
      "Epoch 2/5\n",
      "308/308 [==============================] - 18s 57ms/step - loss: 0.6847 - acc: 0.5000\n",
      "Epoch 3/5\n",
      "308/308 [==============================] - 19s 60ms/step - loss: 0.6779 - acc: 0.5032\n",
      "Epoch 4/5\n",
      "308/308 [==============================] - 18s 59ms/step - loss: 0.6727 - acc: 0.5227\n",
      "Epoch 5/5\n",
      "308/308 [==============================] - 18s 59ms/step - loss: 0.6621 - acc: 0.6364\n"
     ]
    },
    {
     "data": {
      "text/plain": [
       "<keras.callbacks.History at 0x7fa3c69a8e10>"
      ]
     },
     "execution_count": 21,
     "metadata": {},
     "output_type": "execute_result"
    }
   ],
   "source": [
    "# hyper and meta params\n",
    "iterations = 5\n",
    "batch = 32\n",
    "tensorboard_callback = callbacks.TensorBoard(\n",
    "    log_dir='./log_keras',\n",
    "    histogram_freq=0,\n",
    "    write_graph=True,\n",
    "    write_images=True\n",
    ")\n",
    "\n",
    "model.fit(\n",
    "    train,\n",
    "    train_labels,\n",
    "    epochs=iterations,\n",
    "    batch_size=batch,\n",
    "    callbacks=[tensorboard_callback]\n",
    ")"
   ]
  },
  {
   "cell_type": "code",
   "execution_count": 23,
   "metadata": {},
   "outputs": [
    {
     "name": "stdout",
     "output_type": "stream",
     "text": [
      "166/166 [==============================] - 4s 27ms/step\n",
      "On the test set\n",
      "loss :: 0.66\n",
      "accu :: 0.5\n"
     ]
    }
   ],
   "source": [
    "score = model.evaluate(test, test_labels, batch_size=12)\n",
    "print('On the test set')\n",
    "print('loss ::', round(score[0], 2))\n",
    "print('accu ::', round(score[1], 2))"
   ]
  },
  {
   "cell_type": "markdown",
   "metadata": {},
   "source": [
    "Not looking that great (yet), but to visualize it run the following cell and open `localhost:6006`"
   ]
  },
  {
   "cell_type": "code",
   "execution_count": null,
   "metadata": {},
   "outputs": [],
   "source": [
    "!tensorboard --logdir log_keras"
   ]
  }
 ],
 "metadata": {
  "kernelspec": {
   "display_name": "Python 3",
   "language": "python",
   "name": "python3"
  },
  "language_info": {
   "codemirror_mode": {
    "name": "ipython",
    "version": 3
   },
   "file_extension": ".py",
   "mimetype": "text/x-python",
   "name": "python",
   "nbconvert_exporter": "python",
   "pygments_lexer": "ipython3",
   "version": "3.6.4"
  }
 },
 "nbformat": 4,
 "nbformat_minor": 2
}
